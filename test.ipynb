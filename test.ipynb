{
 "cells": [
  {
   "cell_type": "code",
   "execution_count": 2,
   "metadata": {},
   "outputs": [],
   "source": [
    "import torch\n",
    "import numpy as np\n",
    "import sounddevice as sd\n",
    "from transformers import Wav2Vec2ForCTC, Wav2Vec2Processor\n",
    "\n",
    "# Load pre-trained model and tokenizer\n",
    "processor = Wav2Vec2Processor.from_pretrained(\"facebook/wav2vec2-large-960h\")\n",
    "model = Wav2Vec2ForCTC.from_pretrained(\"facebook/wav2vec2-large-960h\")\n",
    "\n",
    "# Parameters for audio capture\n",
    "sampling_rate = 16000\n",
    "chunk_duration = 1  # duration of each audio chunk in seconds\n",
    "buffer_size = sampling_rate * chunk_duration\n",
    "\n",
    "# Buffer to store audio data\n",
    "audio_buffer = np.zeros(buffer_size, dtype=np.float32)\n",
    "\n",
    "def audio_callback(indata, frames, time, status):\n",
    "    global audio_buffer\n",
    "    audio_buffer = np.roll(audio_buffer, -frames)\n",
    "    audio_buffer[-frames:] = indata[:, 0]\n",
    "\n",
    "def transcribe_audio(buffer):\n",
    "    input_values = processor(buffer, return_tensors=\"pt\", sampling_rate=sampling_rate).input_values\n",
    "    with torch.no_grad():\n",
    "        logits = model(input_values).logits\n",
    "    predicted_ids = torch.argmax(logits, dim=-1)\n",
    "    transcription = processor.decode(predicted_ids[0])\n",
    "    return transcription\n",
    "\n",
    "def main():\n",
    "    with sd.InputStream(samplerate=sampling_rate, channels=1, callback=audio_callback):\n",
    "        print(\"Recording... Press Ctrl+C to stop.\")\n",
    "        try:\n",
    "            while True:\n",
    "                transcription = transcribe_audio(audio_buffer)\n",
    "                print(f\"Transcription: {transcription}\", end=\"\\r\")\n",
    "        except KeyboardInterrupt:\n",
    "            print(\"Stopped recording.\")\n",
    "\n",
    "if __name__ == \"__main__\":\n",
    "    main()\n"
   ]
  },
  {
   "cell_type": "code",
   "execution_count": null,
   "metadata": {},
   "outputs": [],
   "source": []
  }
 ],
 "metadata": {
  "kernelspec": {
   "display_name": "Python 3",
   "language": "python",
   "name": "python3"
  },
  "language_info": {
   "codemirror_mode": {
    "name": "ipython",
    "version": 3
   },
   "file_extension": ".py",
   "mimetype": "text/x-python",
   "name": "python",
   "nbconvert_exporter": "python",
   "pygments_lexer": "ipython3",
   "version": "3.11.9"
  }
 },
 "nbformat": 4,
 "nbformat_minor": 2
}
